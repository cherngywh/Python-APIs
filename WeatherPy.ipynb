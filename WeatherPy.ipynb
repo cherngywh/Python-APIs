{
 "cells": [
  {
   "cell_type": "markdown",
   "metadata": {},
   "source": [
    "# WeatherPy"
   ]
  },
  {
   "cell_type": "markdown",
   "metadata": {},
   "source": [
    "## Analysis\n",
    "- The highest temperature (100F) happens at latitude 0, it's a beautiful curve. the farer from latitude 0, the lower of max tempture.\n",
    "- There is no significant relationship between latitude and cloudiness.\n",
    "- Even though we see some cities with lower humidity and higher wind speed between latitude 0~40, we still can find a tred to show a significant relationship."
   ]
  },
  {
   "cell_type": "code",
   "execution_count": 7,
   "metadata": {
    "collapsed": true
   },
   "outputs": [],
   "source": [
    "import requests as req\n",
    "import json\n",
    "import datetime\n",
    "import random\n",
    "import time\n",
    "import pandas as pd\n",
    "import numpy as np\n",
    "import matplotlib.pyplot as plt\n",
    "from matplotlib.dates import DateFormatter\n",
    "from citipy import citipy"
   ]
  },
  {
   "cell_type": "markdown",
   "metadata": {},
   "source": [
    "# Generate Cities List"
   ]
  },
  {
   "cell_type": "code",
   "execution_count": 35,
   "metadata": {
    "collapsed": true
   },
   "outputs": [],
   "source": [
    "filename = 'apikey.txt'"
   ]
  },
  {
   "cell_type": "code",
   "execution_count": 36,
   "metadata": {
    "collapsed": true
   },
   "outputs": [],
   "source": [
    "def get_file_contents(filename):\n",
    "    try:\n",
    "        with open(filename, 'r') as f:\n",
    "            return f.read().strip()\n",
    "    except FileNotFoundError:\n",
    "        print(\"'%s' file not found\" % filename)"
   ]
  },
  {
   "cell_type": "code",
   "execution_count": 8,
   "metadata": {},
   "outputs": [
    {
     "data": {
      "text/plain": [
       "971"
      ]
     },
     "execution_count": 8,
     "metadata": {},
     "output_type": "execute_result"
    }
   ],
   "source": [
    "# Set up the Link\n",
    "api_key = get_file_contents(filename)\n",
    "url = 'http://api.openweathermap.org/data/2.5/weather?'\n",
    "unit = 'Imperial'\n",
    "Link = url + 'appid=' + api_key + '&units=' + unit + '&q='\n",
    "\n",
    "# Generate lists of latitude and longtitude\n",
    "lats = np.random.uniform(-90, 90, 3000)\n",
    "lngs = np.random.uniform(-180, 180, 3000)\n",
    "\n",
    "# Find the nearest city by citipy and then clean and shuffle the data\n",
    "coords = []\n",
    "cities = []\n",
    "weather_data = []\n",
    "for i in range(len(lats)):\n",
    "    x = (lats[i], lngs[i])\n",
    "    coords.append(x)\n",
    "    city = citipy.nearest_city(x[0],x[1]).city_name\n",
    "    cities.append(city)\n",
    "    cities = list(set(cities))\n",
    "    random.shuffle(cities)\n",
    "len(cities)"
   ]
  },
  {
   "cell_type": "code",
   "execution_count": 9,
   "metadata": {},
   "outputs": [
    {
     "name": "stdout",
     "output_type": "stream",
     "text": [
      "1\n",
      "19\n",
      "2\n",
      "55\n",
      "3\n",
      "110\n",
      "4\n",
      "183\n",
      "5\n",
      "273\n",
      "6\n",
      "380\n",
      "7\n",
      "506\n",
      "end\n"
     ]
    }
   ],
   "source": [
    "# Create a function to get data from openweathermap, and filter out the cities which are not in the database\n",
    "def city_query(sample_cities):\n",
    "    for j in sample_cities:\n",
    "        response = req.get(Link + j).json()\n",
    "        if response['cod'] != '404':\n",
    "            weather_data.append(response)\n",
    "    return weather_data\n",
    "\n",
    "# Create a timer to avoid exceeding limit per minute\n",
    "all_cities = []\n",
    "count = 0\n",
    "\n",
    "for i in range(0, len(cities), 20):\n",
    "    epoch = cities[i:i+20]\n",
    "    all_cities += city_query(epoch)  \n",
    "    count += 1\n",
    "    print(count)\n",
    "    print(len(all_cities))\n",
    "    if len(all_cities) > 500:\n",
    "        break\n",
    "    time.sleep(120)\n",
    "print('end')"
   ]
  },
  {
   "cell_type": "code",
   "execution_count": 38,
   "metadata": {},
   "outputs": [
    {
     "data": {
      "text/plain": [
       "City          506\n",
       "Cloudiness    506\n",
       "Country       506\n",
       "Date          506\n",
       "Humidity      506\n",
       "Lat           506\n",
       "Lng           506\n",
       "Max Temp      506\n",
       "Wind Speed    506\n",
       "dtype: int64"
      ]
     },
     "execution_count": 38,
     "metadata": {},
     "output_type": "execute_result"
    }
   ],
   "source": [
    "# Get the data from json\n",
    "Name = [data['name'] for data in all_cities]\n",
    "Humidity = [data['main']['humidity'] for data in all_cities]\n",
    "Lat = [data['coord']['lat'] for data in all_cities]\n",
    "Lon = [data['coord']['lon'] for data in all_cities]\n",
    "Cloudiness = [data['clouds']['all'] for data in all_cities]\n",
    "Wind_Speed = [data['wind']['speed'] for data in all_cities]\n",
    "Country = [data['sys']['country'] for data in all_cities]\n",
    "Max_Temp = [data['main']['temp_max'] for data in all_cities]\n",
    "Date = [data['dt'] for data in all_cities]\n",
    "\n",
    "# Create a DataFrame\n",
    "Weather_df = pd.DataFrame({'City':Name,\n",
    "              'Cloudiness':Cloudiness,\n",
    "              'Country':Country,\n",
    "              'Date':Date,\n",
    "              'Humidity':Humidity,\n",
    "              'Lat':Lat,\n",
    "              'Lng':Lon,\n",
    "              'Max Temp':Max_Temp,\n",
    "              'Wind Speed':Wind_Speed\n",
    "             })\n",
    "Weather_df.count()"
   ]
  },
  {
   "cell_type": "code",
   "execution_count": 39,
   "metadata": {},
   "outputs": [
    {
     "data": {
      "text/html": [
       "<div>\n",
       "<style>\n",
       "    .dataframe thead tr:only-child th {\n",
       "        text-align: right;\n",
       "    }\n",
       "\n",
       "    .dataframe thead th {\n",
       "        text-align: left;\n",
       "    }\n",
       "\n",
       "    .dataframe tbody tr th {\n",
       "        vertical-align: top;\n",
       "    }\n",
       "</style>\n",
       "<table border=\"1\" class=\"dataframe\">\n",
       "  <thead>\n",
       "    <tr style=\"text-align: right;\">\n",
       "      <th></th>\n",
       "      <th>City</th>\n",
       "      <th>Cloudiness</th>\n",
       "      <th>Country</th>\n",
       "      <th>Date</th>\n",
       "      <th>Humidity</th>\n",
       "      <th>Lat</th>\n",
       "      <th>Lng</th>\n",
       "      <th>Max Temp</th>\n",
       "      <th>Wind Speed</th>\n",
       "    </tr>\n",
       "  </thead>\n",
       "  <tbody>\n",
       "    <tr>\n",
       "      <th>0</th>\n",
       "      <td>Sri Aman</td>\n",
       "      <td>90</td>\n",
       "      <td>MY</td>\n",
       "      <td>1514062800</td>\n",
       "      <td>94</td>\n",
       "      <td>1.24</td>\n",
       "      <td>111.46</td>\n",
       "      <td>75.20</td>\n",
       "      <td>0.81</td>\n",
       "    </tr>\n",
       "    <tr>\n",
       "      <th>1</th>\n",
       "      <td>Labuhan</td>\n",
       "      <td>44</td>\n",
       "      <td>ID</td>\n",
       "      <td>1514066819</td>\n",
       "      <td>91</td>\n",
       "      <td>-2.54</td>\n",
       "      <td>115.51</td>\n",
       "      <td>74.87</td>\n",
       "      <td>3.60</td>\n",
       "    </tr>\n",
       "    <tr>\n",
       "      <th>2</th>\n",
       "      <td>Portland</td>\n",
       "      <td>75</td>\n",
       "      <td>US</td>\n",
       "      <td>1514065980</td>\n",
       "      <td>60</td>\n",
       "      <td>45.52</td>\n",
       "      <td>-122.67</td>\n",
       "      <td>41.00</td>\n",
       "      <td>20.80</td>\n",
       "    </tr>\n",
       "    <tr>\n",
       "      <th>3</th>\n",
       "      <td>Ocos</td>\n",
       "      <td>20</td>\n",
       "      <td>GT</td>\n",
       "      <td>1514062800</td>\n",
       "      <td>41</td>\n",
       "      <td>14.51</td>\n",
       "      <td>-92.19</td>\n",
       "      <td>93.20</td>\n",
       "      <td>9.17</td>\n",
       "    </tr>\n",
       "    <tr>\n",
       "      <th>4</th>\n",
       "      <td>Halifax</td>\n",
       "      <td>90</td>\n",
       "      <td>CA</td>\n",
       "      <td>1514064600</td>\n",
       "      <td>100</td>\n",
       "      <td>44.65</td>\n",
       "      <td>-63.58</td>\n",
       "      <td>37.40</td>\n",
       "      <td>19.46</td>\n",
       "    </tr>\n",
       "  </tbody>\n",
       "</table>\n",
       "</div>"
      ],
      "text/plain": [
       "       City  Cloudiness Country        Date  Humidity    Lat     Lng  \\\n",
       "0  Sri Aman          90      MY  1514062800        94   1.24  111.46   \n",
       "1   Labuhan          44      ID  1514066819        91  -2.54  115.51   \n",
       "2  Portland          75      US  1514065980        60  45.52 -122.67   \n",
       "3      Ocos          20      GT  1514062800        41  14.51  -92.19   \n",
       "4   Halifax          90      CA  1514064600       100  44.65  -63.58   \n",
       "\n",
       "   Max Temp  Wind Speed  \n",
       "0     75.20        0.81  \n",
       "1     74.87        3.60  \n",
       "2     41.00       20.80  \n",
       "3     93.20        9.17  \n",
       "4     37.40       19.46  "
      ]
     },
     "execution_count": 39,
     "metadata": {},
     "output_type": "execute_result"
    }
   ],
   "source": [
    "# Show DataFrame\n",
    "Weather_df.to_csv('city_data.csv')\n",
    "Weather_df.head()"
   ]
  },
  {
   "cell_type": "code",
   "execution_count": 40,
   "metadata": {
    "collapsed": true
   },
   "outputs": [],
   "source": [
    "# Transfer the date to readable format\n",
    "data_date = time.strftime('(%m/%d/%y)', time.localtime(Weather_df['Date'][0]))"
   ]
  },
  {
   "cell_type": "markdown",
   "metadata": {},
   "source": [
    "# Latitude vs Temperature Plot"
   ]
  },
  {
   "cell_type": "code",
   "execution_count": 42,
   "metadata": {},
   "outputs": [
    {
     "data": {
      "image/png": "[encoded data removed]",
      "text/plain": [
       "<matplotlib.figure.Figure at 0x114ae92e8>"
      ]
     },
     "metadata": {},
     "output_type": "display_data"
    }
   ],
   "source": [
    "# Create a scatter plot to show latitude and max temperature\n",
    "plt.scatter(Weather_df['Lat'], Weather_df['Max Temp'] , marker='o', color='b', edgecolors='black')\n",
    "plt.title('City Latitude vs. Max Temperature {}'.format(data_date))\n",
    "plt.ylabel('Max Temperature (F)')\n",
    "plt.xlabel('Latitude')\n",
    "plt.style.use('seaborn-darkgrid')\n",
    "plt.xlim(-90, 90)\n",
    "plt.ylim(-100, 150)\n",
    "\n",
    "# Save Figure\n",
    "plt.savefig(\"analysis/Fig1.png\")\n",
    "\n",
    "# Show Figure\n",
    "plt.show()"
   ]
  },
  {
   "cell_type": "markdown",
   "metadata": {},
   "source": [
    "# Latitude vs. Humidity Plot"
   ]
  },
  {
   "cell_type": "code",
   "execution_count": 43,
   "metadata": {},
   "outputs": [
    {
     "data": {
      "image/png": "[encoded data removed]",
      "text/plain": [
       "<matplotlib.figure.Figure at 0x117fffcc0>"
      ]
     },
     "metadata": {},
     "output_type": "display_data"
    }
   ],
   "source": [
    "# Create a scatter plot to show latitude and humidity\n",
    "plt.scatter(Weather_df['Lat'], Weather_df['Humidity'] , marker='o', color='b', edgecolors='black')\n",
    "plt.title('City Latitude vs. Humidity {}'.format(data_date))\n",
    "plt.ylabel('Humidity (%)')\n",
    "plt.xlabel('Latitude')\n",
    "plt.style.use('seaborn-darkgrid')\n",
    "plt.xlim(-90, 90)\n",
    "plt.ylim(-20, 120)\n",
    "\n",
    "# Save Figure\n",
    "plt.savefig(\"analysis/Fig2.png\")\n",
    "\n",
    "# Show Figure\n",
    "plt.show()"
   ]
  },
  {
   "cell_type": "markdown",
   "metadata": {},
   "source": [
    "# Latitude vs. Cloudiness Plot"
   ]
  },
  {
   "cell_type": "code",
   "execution_count": 44,
   "metadata": {},
   "outputs": [
    {
     "data": {
      "image/png": "[encoded data removed]",
      "text/plain": [
       "<matplotlib.figure.Figure at 0x11405ee48>"
      ]
     },
     "metadata": {},
     "output_type": "display_data"
    }
   ],
   "source": [
    "# Create a scatter plot to show latitude and cloudiness\n",
    "plt.scatter(Weather_df['Lat'], Weather_df['Cloudiness'] , marker='o', color='b', edgecolors='black')\n",
    "plt.title('City Latitude vs. Cloudiness {}'.format(data_date))\n",
    "plt.ylabel('Cloudiness (%)')\n",
    "plt.xlabel('Latitude')\n",
    "plt.style.use('seaborn-darkgrid')\n",
    "plt.xlim(-90, 90)\n",
    "plt.ylim(-20, 120)\n",
    "\n",
    "# Save Figure\n",
    "plt.savefig(\"analysis/Fig3.png\")\n",
    "\n",
    "# Show Figure\n",
    "plt.show()"
   ]
  },
  {
   "cell_type": "markdown",
   "metadata": {},
   "source": [
    "# Latitude vs. Wind Speed Plot"
   ]
  },
  {
   "cell_type": "code",
   "execution_count": 45,
   "metadata": {},
   "outputs": [
    {
     "data": {
      "image/png": "[encoded data removed]",
      "text/plain": [
       "<matplotlib.figure.Figure at 0x106d84898>"
      ]
     },
     "metadata": {},
     "output_type": "display_data"
    }
   ],
   "source": [
    "# Create a scatter plot to show latitude and max wind speed\n",
    "plt.scatter(Weather_df['Lat'], Weather_df['Wind Speed'] , marker='o', color='b', edgecolors='black')\n",
    "plt.title('City Latitude vs. Wind Speed {}'.format(data_date))\n",
    "plt.ylabel('Wind Speed (mph)')\n",
    "plt.xlabel('Latitude')\n",
    "plt.style.use('seaborn-darkgrid')\n",
    "plt.xlim(-90, 90)\n",
    "plt.ylim(-5, 40)\n",
    "\n",
    "# Save Figure\n",
    "plt.savefig(\"analysis/Fig4.png\")\n",
    "\n",
    "# Show Figure\n",
    "plt.show()"
   ]
  }
 ],
 "metadata": {
  "kernelspec": {
   "display_name": "Python 3",
   "language": "python",
   "name": "python3"
  },
  "language_info": {
   "codemirror_mode": {
    "name": "ipython",
    "version": 3
   },
   "file_extension": ".py",
   "mimetype": "text/x-python",
   "name": "python",
   "nbconvert_exporter": "python",
   "pygments_lexer": "ipython3",
   "version": "3.6.2"
  }
 },
 "nbformat": 4,
 "nbformat_minor": 2
}
